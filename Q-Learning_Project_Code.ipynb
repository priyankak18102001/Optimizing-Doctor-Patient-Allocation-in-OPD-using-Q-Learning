{
 "cells": [
  {
   "cell_type": "code",
   "execution_count": 1,
   "id": "70547064-f018-4dd6-b0f7-521b8be4034d",
   "metadata": {},
   "outputs": [],
   "source": [
    "import numpy as np\n",
    "import pandas as pd"
   ]
  },
  {
   "cell_type": "code",
   "execution_count": 2,
   "id": "183793a5-e090-42cc-97d4-26d4e1514666",
   "metadata": {},
   "outputs": [],
   "source": [
    "#Paremeters\n",
    "num_doctors = 3 # number of doctors\n",
    "num_patients =5 # number of patient\n",
    "num_states = num_doctors * num_patients  # Total States\n",
    "num_action = num_doctors # Assign a patient to one of a doctor"
   ]
  },
  {
   "cell_type": "code",
   "execution_count": 3,
   "id": "4002b2b7-478b-4f5e-88eb-58233d867c8d",
   "metadata": {},
   "outputs": [],
   "source": [
    "# Initialize a Q-table with zero entrys\n",
    "Q_table = np.zeros((num_patients,num_action ))"
   ]
  },
  {
   "cell_type": "code",
   "execution_count": 4,
   "id": "58f82210-881f-43e4-a933-4ed0c9dfca88",
   "metadata": {},
   "outputs": [
    {
     "data": {
      "text/plain": [
       "array([[0., 0., 0.],\n",
       "       [0., 0., 0.],\n",
       "       [0., 0., 0.],\n",
       "       [0., 0., 0.],\n",
       "       [0., 0., 0.]])"
      ]
     },
     "execution_count": 4,
     "metadata": {},
     "output_type": "execute_result"
    }
   ],
   "source": [
    "Q_table"
   ]
  },
  {
   "cell_type": "code",
   "execution_count": 5,
   "id": "ef6a0cf1-62be-4c19-a99e-d08a2e8a2571",
   "metadata": {},
   "outputs": [],
   "source": [
    "#Hyperparameters\n",
    "alpha = 0.1 #Learning Rate\n",
    "gamma = 0.9 #Discount factor\n",
    "epsilon = 0.2 #Exploration Rate\n",
    "num_epsiodes = 1000 #Training Epsiode"
   ]
  },
  {
   "cell_type": "code",
   "execution_count": 10,
   "id": "042f4686-698d-4308-a72b-011a5a9ec155",
   "metadata": {},
   "outputs": [],
   "source": [
    "# Time matrix (randomized time taken by doctors for each patient)\n",
    "time_matrix = np.random.randint(5, 20, (num_patients, num_doctors))  # (Patients x Doctors)"
   ]
  },
  {
   "cell_type": "code",
   "execution_count": 12,
   "id": "4d7d686a-e125-412b-9fdb-ed23e8a5466f",
   "metadata": {},
   "outputs": [],
   "source": [
    "import random\n",
    "#Q_learning Loop\n",
    "for epsiodes in range(num_epsiodes):\n",
    "    for patients in range(num_patients):\n",
    "        if random.uniform(0,1) < epsilon:\n",
    "            action = np.random.choice(num_action) # Explore: Random doctor assignment\n",
    "        else:\n",
    "            action = np.argmax(Q_table[patients])  # Exploit: Best known assignment\n",
    "        reward = -time_matrix[patients , action]  # Negative time to minimize it\n",
    "\n",
    "        # Update Q-value using Bellman equation\n",
    "        Q_table[patients, action] = (1 - alpha) * Q_table[patients, action] + \\\n",
    "                                   alpha * (reward + gamma * np.max(Q_table[patients]))\n",
    "# Optimal doctor assignment based on learned Q-values\n",
    "optimal_assignment = np.argmax(Q_table, axis=1)   "
   ]
  },
  {
   "cell_type": "code",
   "execution_count": 13,
   "id": "58b72334-b645-49d1-b18f-ead2aa8a36f3",
   "metadata": {},
   "outputs": [
    {
     "name": "stdout",
     "output_type": "stream",
     "text": [
      "Time Matrix (Patients x Doctors):\n",
      "[[14  6  7]\n",
      " [18 13 12]\n",
      " [ 6 18 11]\n",
      " [17 16 14]\n",
      " [18  6 19]]\n",
      "\n",
      "Learned Q-Table:\n",
      "[[ -67.24297598  -59.94659678  -60.75651799]\n",
      " [-124.874191   -120.05283148 -119.71793812]\n",
      " [ -59.97817802  -71.70875894  -64.88196095]\n",
      " [-141.22601723 -140.59583282 -139.6636387 ]\n",
      " [ -71.71218405  -59.98509758  -72.81477265]]\n",
      "\n",
      "Optimal Assignment of Patients to Doctors:\n",
      "Patient 0 -> Doctor 1\n",
      "Patient 1 -> Doctor 2\n",
      "Patient 2 -> Doctor 0\n",
      "Patient 3 -> Doctor 2\n",
      "Patient 4 -> Doctor 1\n"
     ]
    }
   ],
   "source": [
    "def display_results():\n",
    "    print(\"Time Matrix (Patients x Doctors):\")\n",
    "    print(time_matrix)\n",
    "    print(\"\\nLearned Q-Table:\")\n",
    "    print(Q_table)\n",
    "    print(\"\\nOptimal Assignment of Patients to Doctors:\")\n",
    "    for p in range(num_patients):\n",
    "        print(f\"Patient {p} -> Doctor {optimal_assignment[p]}\")\n",
    "\n",
    "# Display results\n",
    "display_results()"
   ]
  },
  {
   "cell_type": "code",
   "execution_count": null,
   "id": "37f2387c-7251-4713-8854-d2e884dcb578",
   "metadata": {},
   "outputs": [],
   "source": []
  }
 ],
 "metadata": {
  "kernelspec": {
   "display_name": "Python 3 (ipykernel)",
   "language": "python",
   "name": "python3"
  },
  "language_info": {
   "codemirror_mode": {
    "name": "ipython",
    "version": 3
   },
   "file_extension": ".py",
   "mimetype": "text/x-python",
   "name": "python",
   "nbconvert_exporter": "python",
   "pygments_lexer": "ipython3",
   "version": "3.11.7"
  },
  "widgets": {
   "application/vnd.jupyter.widget-state+json": {
    "state": {},
    "version_major": 2,
    "version_minor": 0
   }
  }
 },
 "nbformat": 4,
 "nbformat_minor": 5
}
